{
 "cells": [
  {
   "cell_type": "code",
   "execution_count": null,
   "metadata": {},
   "outputs": [],
   "source": [
    "import matplotlib.pyplot as plt\n",
    "import numpy as np\n",
    "\n",
    "# Définition des variables\n",
    "C2 =0.1# concentration de l'acide chlorhydrique en mol/L\n",
    "V1 =10 # volume de solution titrée en mL\n",
    "VE = 13.6 # volume d'acide versé à l’équivalence en mL\n",
    "C1 = C2* VE /V1 # calcule la concentration initiale en destop\n",
    "\n",
    "# Avant l’équivalence\n",
    "V2av = np.linspace(0, VE, 20) # crée 20 valeurs de V2 de 0 mL à VE\n",
    "nNa_av = 0*V2av + C1*V1*1e-3 # calcule n(Na+) pour les 20 valeurs de V2\n",
    "nOH_av = C1*V1*1e-3-C2*V2av*1e-3 # calcule n(HO−) pour les 20 valeurs de V2\n",
    "n1_av = 0*V2av # calcule n(H3O+) pour les 20 valeurs de V2\n",
    "nCl_av = C2*V2av*1e-3 # calcule n(Cl-) pour les 20 valeurs de V2\n",
    "\n",
    "# Après l’équivalence\n",
    "V2ap = np.linspace(VE, 25, 20) # crée 20 valeurs de volumes de VE à 25 mL\n",
    "nNa_ap = 0*V2ap+C1*V1*1e-3 # calcule n(Na+)\n",
    "nOH_ap = 0*V2ap # calcule n(HO−)\n",
    "n1_ap = C2*V2ap*1e-3-C2*VE*1e-3 # calcule n(H3O+)\n",
    "nCl_ap = C2*V2ap*1e-3 # calcule n(Cl-)\n",
    "\n",
    "# Trace en bleu n(Na+) = f(V2) avant et après l’équivalence\n",
    "plt.plot(V2av, nNa_av, color = \"blue\", marker=\"x\",label = \"Na+\")\n",
    "plt.plot(V2ap, nNa_ap, color = \"blue\",marker=\"x\")\n",
    "\n",
    "# Trace en vert n(OH−) = f(V2) avant et après l’équivalence\n",
    "plt.plot(V2av, nOH_av, color = \"green\",marker=\"x\", label = \"HO−\")\n",
    "plt.plot(V2ap, nOH_ap , color = \"green\",marker=\"x\")\n",
    "\n",
    "# Trace en rouge n(H3O+) = f(V2) avant et après l’équivalence\n",
    "plt.plot(V2av, n1_av, color = \"red\",marker=\"x\", label = \"H3O+\")\n",
    "plt.plot(V2ap, n1_ap, color = \"red\",marker=\"x\")\n",
    "\n",
    "# Trace en noir n(Cl-) = f(V2) avant et après l’équivalence\n",
    "plt.plot(V2av, nCl_av, color = \"black\",marker=\"x\", label = \"Cl-\")\n",
    "plt.plot(V2ap, nCl_ap, color = \"black\",marker=\"x\")\n",
    "\n",
    "\n",
    "plt.xlabel(\" V versé \")\n",
    "plt.ylabel(\" Quantité de matière \")\n",
    "plt.legend() # affiche la légende de chaque courbe\n",
    "plt.rcParams['figure.figsize'] = [10, 10]# taille de l'affichage du graphique\n",
    "plt.show() # affiche le graphique"
   ]
  },
  {
   "cell_type": "code",
   "execution_count": null,
   "metadata": {},
   "outputs": [],
   "source": []
  },
  {
   "cell_type": "code",
   "execution_count": null,
   "metadata": {},
   "outputs": [],
   "source": []
  },
  {
   "cell_type": "code",
   "execution_count": null,
   "metadata": {},
   "outputs": [],
   "source": []
  }
 ],
 "metadata": {
  "kernelspec": {
   "display_name": "Python 3",
   "language": "python",
   "name": "python3"
  },
  "language_info": {
   "codemirror_mode": {
    "name": "ipython",
    "version": 3
   },
   "file_extension": ".py",
   "mimetype": "text/x-python",
   "name": "python",
   "nbconvert_exporter": "python",
   "pygments_lexer": "ipython3",
   "version": "3.7.4"
  }
 },
 "nbformat": 4,
 "nbformat_minor": 2
}
