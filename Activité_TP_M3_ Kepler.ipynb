{
 "cells": [
  {
   "cell_type": "markdown",
   "metadata": {},
   "source": [
    "# <center>Activité M3 : Peser Jupiter</center>\n",
    "\n",
    "<div class=\"alert alert-info\" role=\"alert\">\n",
    "Un notebook Jupyter est composé de deux types de cellules :<br>\n",
    "<ul><li> des cellules contenant du <b>texte</b> qu'il est nécessaire <b>de lire pour suivre correctement les consignes</b> ;</li><br>\n",
    "<li>des cellules contenant du <b>code Python</b> qu'il est nécessaire <b>d'éxécuter dans l'ordre d'apparition</b>.</li></ul><br>\n",
    "<br>\n",
    "<b>Pour exécuter une cellule de code</b> (grisé), il faut cliquer sur le bouton \"Exécuter\" dans le bandeau supérieur.\n",
    "<br>\n",
    "<center><img src=\"bouton_exécuter.jpg\"></center><br></li></ul>\n",
    "</div>"
   ]
  },
  {
   "cell_type": "markdown",
   "metadata": {},
   "source": [
    "<div class=\"alert alert-danger\" role=\"alert\">\n",
    "<center><font size=\"3\">Ne modifier que la partie du code contenant ---A COMPLETER--- (en effaçant au préalable ce texte)</font></center>\n",
    "</div>"
   ]
  },
  {
   "cell_type": "code",
   "execution_count": null,
   "metadata": {},
   "outputs": [],
   "source": [
    "from matplotlib import pyplot as plt\n",
    "import numpy as np\n",
    "\n",
    "# Les points expérimentaux--------------------------------------------------------------------------------------------------------------------\n",
    "T=[---A compléter---] #Période T en seconde\n",
    "r=[---A compléter---] #Rayon r en mètre\n",
    "\n",
    "# Le calcul de r^3 et T^2--------------------------------------------------------------------------------------------------------------------\n",
    "r3=[] \n",
    "T2=[]\n",
    "for i in range (len(T)):\n",
    "    r3.append (r[i]*r[i]*r[i])\n",
    "    T2.append (T[i]*T[i])\n",
    "\n",
    "# Le nuage de points---------------------------------------------------------------------------------------------------------------------    \n",
    "plt.plot(r3,T2,'+',ms=40,color='red',label='données')    #Trace le nuage de points avec a3 en abscisses et T2 en ordonnées\n",
    "plt.rcParams['figure.figsize'] = [20,20]     # taille de l'affichage du graphique\n",
    "plt.xlabel('r^3 en m.^3',fontsize=20)\n",
    "plt.ylabel('T^2 en s^2',fontsize=20)\n",
    "plt.title('T^2 en fonction de r^3',fontsize=20)\n",
    "\n",
    "# La modélisation----------------------------------------------------------------------------------------------------------------------------\n",
    "a,b=np.polyfit(r3,T2,1)    #Détermine le coeff directeur a et l'ordonnée à l'origine b de la droite qui passe au plus près des points\n",
    "r3mod=np.array(r3)         #convertit la liste a3 en tableau pour que l'opération mathématique à la ligne 22 s'applique à tous les a3  \n",
    "T2mod=a*r3mod+b            #calcule l’ordonnée T2mod pour chaque valeur de a3mod à partir de l’équation de droite\n",
    "plt.plot(r3mod,T2mod,label='modélisation') #Trace la droite d’équation T2mod=a*a3mod+b\n",
    "plt.legend()\n",
    "print (\"modélisation :T^2=\",a,\"r^3+\",b) \n",
    "\n",
    "# L'affichage------------------------------------------------------------------------------------------------------------------------------\n",
    "plt.legend()\n",
    "plt.show()"
   ]
  },
  {
   "cell_type": "code",
   "execution_count": null,
   "metadata": {},
   "outputs": [],
   "source": []
  }
 ],
 "metadata": {
  "kernelspec": {
   "display_name": "Python 3",
   "language": "python",
   "name": "python3"
  },
  "language_info": {
   "codemirror_mode": {
    "name": "ipython",
    "version": 3
   },
   "file_extension": ".py",
   "mimetype": "text/x-python",
   "name": "python",
   "nbconvert_exporter": "python",
   "pygments_lexer": "ipython3",
   "version": "3.7.4"
  }
 },
 "nbformat": 4,
 "nbformat_minor": 2
}
