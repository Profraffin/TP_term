{
 "cells": [
  {
   "cell_type": "markdown",
   "metadata": {},
   "source": [
    "# <center>Présentation du fonctionnement du Notebook Jupyter</center>"
   ]
  },
  {
   "cell_type": "markdown",
   "metadata": {},
   "source": [
    "<div class=\"alert alert-info\" role=\"alert\">\n",
    "Un notebook Jupyter est composé de deux types de cellules :<br>\n",
    "<ul><li> des cellules contenant du <b>texte</b> qu'il est nécessaire <b>de lire pour suivre correctement les consignes</b> ;</li><br>\n",
    "<li>des cellules contenant du <b>code Python</b> qu'il est nécessaire <b>d'éxécuter dans l'ordre d'apparition</b>.</li></ul><br>\n",
    "<br>\n",
    "<b>Pour exécuter une cellule sélectionnée</b> (encadrée en vert), il faut cliquer :<br>\n",
    "<ul><li>sur le bouton \"Exécuter\" situé à côté de la cellule<br><img src=\"Jupyter_Executer.bis.jpg\"></li><br>\n",
    "<li>ou sur le bouton \"Exécuter\" dans le bandeau supérieur.\n",
    "<br>\n",
    "<center><img src=\"Jupyter_Executer.jpg\"></center><br></li></ul>\n",
    "</div>\n",
    "<div class=\"alert alert-warning\">\n",
    "<b>Travail à faire : </b> Exécuter cette ligne de code en suivant les indications ci-dessus. Du texte est affecté à la variable \"a\".\n",
    "</div>"
   ]
  },
  {
   "cell_type": "code",
   "execution_count": null,
   "metadata": {},
   "outputs": [],
   "source": [
    "a=\"Hello World\""
   ]
  },
  {
   "cell_type": "markdown",
   "metadata": {},
   "source": [
    "<div class=\"alert alert-info\" role=\"alert\">\n",
    "Sur la gauche d'une cellule contenant du code Python, il y a l'indication <b>Entrée [&#160;&#160;]</b><br>\n",
    "<ul><li><b>Entrée [&#160;&#160;]</b> signifie que la cellule n'a pas été exécutée ;</li><br>\n",
    "<li><b>Entrée [*]</b> signifie que la cellule est en cours d'exécution. Soit il faut une action de votre part (saisie d'une valeur dans un <b>Input</b>, soit il faut donc patienter quelques secondes pour que tout le code s'exécute ;</li><br>\n",
    "<li><b>Entrée [1]</b> signifie que la cellule a été exécutée au rang 1.</li></ul><br>\n",
    "<br>\n",
    "</div>\n",
    "<div class=\"alert alert-warning\">\n",
    "<b>Travail à faire : </b> Exécuter cette ligne de code qui permet d'afficher la valeur de la variable \"a\".\n",
    "</div>"
   ]
  },
  {
   "cell_type": "code",
   "execution_count": null,
   "metadata": {},
   "outputs": [],
   "source": [
    "print(a)"
   ]
  },
  {
   "cell_type": "markdown",
   "metadata": {},
   "source": [
    "<div class=\"alert alert-success\" role=\"alert\">\n",
    "<details>\n",
    "<summary><b>A LIRE SI VOUS ÊTES EN LIGNE (en cliquant ici ou sur la flèche à gauche)</b>: Explications pour sauvegarder vos modifications au fur et à mesure.</summary>\n",
    "<p>En cas d'inactivité prolongé (entre 5 et 10 min), le notebook Jupyter sera déconnecté.<br>\n",
    "<img src=\"Jupyter_deconnected.jpg\"><br>\n",
    "Pour éviter de perdre vos modifications de code, enregistrez régulièrement votre notebook dans votre navigateur.<br>\n",
    "<img src=\"Jupyter_save.jpg\"><br>\n",
    "Le message suivant s'affiche :\n",
    "<img src=\"Jupyter_save_2.jpg\"><br>\n",
    "En cas de déconnexion, vous devez réouvrir votre notebook puis vous pouvez charger votre sauvegarde.<br>\n",
    "<img src=\"Jupyter_open.jpg\"><br>\n",
    "Le message suivant s'affiche et vous devez cliquer sur \"OK\" :\n",
    "<img src=\"Jupyter_open_2.jpg\"><br>\n",
    "Vous devez exécuter toutes les cellules modifiées depuis le début. Pour le faire rapidement, il faut cliquer sur \"Restart & Run all\" dans le menu Kernel.<br>\n",
    "<img src=\"Jupyter_restart.jpg\"><br></p>\n",
    "Le message suivant s'affiche et vous devez cliquer sur \"Restart & Run All Cells\" :\n",
    "<img src=\"Jupyter_restart_2.jpg\"><br>\n",
    "</details>\n",
    "</div>\n",
    "\n",
    "<div class=\"alert alert-danger\" role=\"alert\">\n",
    "<center><font size=\"5\">Ne modifier que la partie du code contenant ---A COMPLETER---</font></center>\n",
    "</div>"
   ]
  },
  {
   "cell_type": "markdown",
   "metadata": {},
   "source": [
    "# <center>TP M3_13 :Lois de Kepler</center>"
   ]
  },
  {
   "cell_type": "markdown",
   "metadata": {},
   "source": [
    "<div class=\"alert alert-warning\" role=\"alert\">\n",
    "<b>Travail à faire : </b> Exécuter le code qui trace les aires parcourues par le segment reliant la Terre et le Soleil pendant des intervalles de temps égaux. Le code fourni également la valeur de l'aire en unité astronomique au carré. \n",
    "<br>\n",
    "</div>"
   ]
  },
  {
   "cell_type": "code",
   "execution_count": null,
   "metadata": {
    "scrolled": false
   },
   "outputs": [],
   "source": [
    "import numpy as np\n",
    "import matplotlib.pyplot as plt\n",
    "\n",
    "# Les points de l'éphéméride de la Terre--------------------------------------------------------------------------------------------------------------\n",
    "t=[0.0, 18.25, 36.5, 54.75, 73.0, 91.25, 109.5, 127.75, 146.0, 164.25, 182.5, 200.75, 219.0, 237.25, 255.5, 273.75, 292.0, 310.25, 328.5, 346.75]\n",
    "x=[147100151088.0, 139533682498.273, 117647640604.035, 83772434550.431, 41450712325.434, -4999232622.266, -50972159056.259, -92044709537.433, -124375211801.218, -145011041729.039, -152099848912.0, -145011041729.039, -124375211801.218, -92044709537.433, -50972159056.259, -4999232622.266, 41450712325.434, 83772434550.431, 117647640604.035, 139533682498.273]\n",
    "y=[0.0, 46968284969.372, 89120830008.992, 122200990811.439, 142978314090.909, 149558234747.614, 141509723966.595, 119824319933.542, 86743612269.03, 45498810003.485, 0.0, -45498810003.485, -86743612269.03, -119824319933.542, -141509723966.595, -149558234747.614, -142978314090.909, -122200990811.44, -89120830008.992, -46968284969.372]\n",
    "\n",
    "# Le nuage de points---------------------------------------------------------------------------------------------\n",
    "plt.rcParams['figure.figsize'] = [10,10]# taille de l'affichage du graphique\n",
    "plt.xlabel('Coordonnees x',fontsize=20)\n",
    "plt.ylabel('Coordonnees y',fontsize=20)\n",
    "plt.title('Trajectoire de la Terre',fontsize=20)\n",
    "plt.scatter(x, y, marker = '+')\n",
    "\n",
    "# Le calcul de l'aire parcourue entre 2 dates---------------------------------------------------------------------------------------------\n",
    "i = 1\n",
    "while i < len(t)-1 :\n",
    "  alpha = np.arctan2(y[i], x[i]) - np.arctan2(y[i-1], x[i-1])\n",
    "  r0 = np.sqrt(x[i]**2 + y[i]**2)\n",
    "  r1 = np.sqrt(x[i-1]**2 + y[i-1]**2)\n",
    "  A = r0*r1*np.sin(alpha)/2\n",
    "  plt.fill([x[i], x[i-1], 0], [y[i], y[i-1], 0], label='A = ' + \"%.2e\"%A + ' u.a.**2')\n",
    "  i += 2\n",
    "\n",
    "#L'affichage'---------------------------------------------------------------------------------------------    \n",
    "plt.legend(loc='center right',fontsize=10)\n",
    "plt.show()"
   ]
  },
  {
   "cell_type": "markdown",
   "metadata": {},
   "source": [
    "<div class=\"alert alert-warning\" role=\"alert\">\n",
    "<b>Travail à faire : </b> Compléter le code ci-dessous pour tester la 3ème loi de Kepler puis l'exécuter.\n",
    "<br>\n",
    "</div>"
   ]
  },
  {
   "cell_type": "markdown",
   "metadata": {},
   "source": [
    "<img src=\"donnees_planetes.jpg\" alt=\"photo\" width=\"60%\"/> "
   ]
  },
  {
   "cell_type": "code",
   "execution_count": null,
   "metadata": {},
   "outputs": [],
   "source": [
    "# Les points expérimentaux--------------------------------------------------------------------------------------------------------------------\n",
    "T=[87.9,224.7,365.25,687,4331,10751]\n",
    "a=[0.39,0.72,1.00,1.52,5.20,9.52]\n",
    "\n",
    "# Le calcul de a^3 et T^2--------------------------------------------------------------------------------------------------------------------\n",
    "a3=[] \n",
    "T2=[]\n",
    "for i in range (len(T)):\n",
    "    a3.append (a[i]*a[i]*a[i])\n",
    "    T2.append (T[i]*T[i])\n",
    "\n",
    "# Le nuage de points---------------------------------------------------------------------------------------------------------------------    \n",
    "plt.plot(a3,T2,'+',ms=40,color='red',label='données')        #Trace le nuage de points avec a3 en abscisses et T2 en ordonnées\n",
    "plt.rcParams['figure.figsize'] = [20,20]     # taille de l'affichage du graphique\n",
    "plt.xlabel('a^3 en u.a.^3',fontsize=20)\n",
    "plt.ylabel('T^2 en jour^2',fontsize=20)\n",
    "plt.title('T^2 en fonction de a^3',fontsize=20)\n",
    "\n",
    "# La modélisation----------------------------------------------------------------------------------------------------------------------------\n",
    "a,b=np.polyfit(---a compléter---,----a compléter----,1)    #Détermine le coeff directeur a et l'ordonnée à l'origine b de la droite qui passe au plus près des points\n",
    "a3mod=np.array(a3)         #convertit la liste a3 en tableau pour que l'opération mathématique à la ligne 22 s'applique à tous les a3  \n",
    "T2mod=a*a3mod+b            #calcule l’ordonnée T2mod pour chaque valeur de a3mod à partir de l’équation de droite\n",
    "plt.plot(a3mod,T2mod,label='modélisation') #Trace la droite d’équation T2mod=a*a3mod+b\n",
    "plt.legend()\n",
    "print (\"modélisation :T^2=\",a,\"a^3+\",b) \n",
    "\n",
    "# L'affichage------------------------------------------------------------------------------------------------------------------------------\n",
    "plt.legend()\n",
    "plt.show()"
   ]
  }
 ],
 "metadata": {
  "kernelspec": {
   "display_name": "Python 3",
   "language": "python",
   "name": "python3"
  },
  "language_info": {
   "codemirror_mode": {
    "name": "ipython",
    "version": 3
   },
   "file_extension": ".py",
   "mimetype": "text/x-python",
   "name": "python",
   "nbconvert_exporter": "python",
   "pygments_lexer": "ipython3",
   "version": "3.7.4"
  }
 },
 "nbformat": 4,
 "nbformat_minor": 2
}
