{
 "cells": [
  {
   "cell_type": "markdown",
   "metadata": {},
   "source": [
    " <img src=\"fentes.jpg\" alt=\"photo\" width=\"60%\"/> "
   ]
  },
  {
   "cell_type": "markdown",
   "metadata": {},
   "source": [
    " <img src=\"interferences.jpg\" alt=\"photo\" width=\"60%\"/> "
   ]
  },
  {
   "cell_type": "markdown",
   "metadata": {},
   "source": [
    "En un point M sur l'écran, à t = 0 s, 2 ondes électromagnétiques issues des sources S1 et S2 sont reçus. \n",
    "\n",
    "On souhaite visualiser le signal s(t) reçu en M1 et M2 et expliquer la présence de lumière ou l'absence de lumière.\n",
    "\n",
    "\n",
    "Remarque : si l'amplitude d'un signal est non nulle, alors il y a de la lumière sur l'écran."
   ]
  },
  {
   "cell_type": "markdown",
   "metadata": {},
   "source": [
    "<div class=\"alert alert-warning\">\n",
    "<b>Travail à faire : </b> Compléter le code ci-dessous pour .....à voir..(?).\n",
    "</div>\n",
    "<details>\n",
    "<summary>Aide</summary>\n",
    "<p> ... </p>\n",
    "</details>"
   ]
  },
  {
   "cell_type": "code",
   "execution_count": null,
   "metadata": {},
   "outputs": [
    {
     "name": "stdout",
     "output_type": "stream",
     "text": [
      "Amplitude du signal s1(t) : A1 =2\n"
     ]
    }
   ],
   "source": [
    "from matplotlib import pyplot as plt\n",
    "from math import pi\n",
    "import numpy as np\n",
    "\n",
    "T = 1 #en milliseconde\n",
    "t=np.linspace(0,4,400) # 400 valeurs entre 0 et 4\n",
    "A1=float(input(\"Amplitude du signal s1(t) : A1 =\"))\n",
    "A2=float(input(\"Amplitude du signal s2(t) A2 =\"))\n",
    "phi=eval(input(\"Déphasage au point M (en rad): phi=\"))\n",
    "\n",
    "def s(A,T,phi) :\n",
    "    return A*np.cos(2*pi*t/T+phi)\n",
    "\n",
    "plt.plot(t,s(A1,T,0),'--',label='$s_{1}(t)$')\n",
    "plt.plot(t,s(A2,T,phi),'--',label='$s_{2}(t)$')\n",
    "plt.plot(t,s(A1,T,0)+s(A2,T,phi),label='$s_{1}(t)+s_{2}(t)$')\n",
    "plt.legend()\n",
    "plt.rcParams['figure.figsize'] = [20, 20] # taille de l'affichage du graphique\n",
    "plt.xlabel(\"t en ms\",fontsize=50)\n",
    "plt.ylabel (\"elongation \",fontsize=50)"
   ]
  },
  {
   "cell_type": "markdown",
   "metadata": {},
   "source": [
    "<div class=\"alert alert-warning\">\n",
    "<b>Travail à faire : </b> A partir de vos résulats, préciser si au point M1, les signaux reçus sont en phase ou en opposition de phase.\n",
    "</div>\n",
    "<details>\n",
    "<summary>Solution</summary>\n",
    "<p>Pour phi=0 la somme des signaux a une amplitude maximale, il y a un maximum lumière. Les interférences sont constructives lorsque les signaux sont en phase.</p>\n",
    "</details>\n",
    "\n",
    "<div class=\"alert alert-warning\">\n",
    "<b>Travail à faire : </b> A partir de vos résulats, préciser si au point M2, les signaux reçus sont en phase ou en opposition de phase.\n",
    "</div>\n",
    "<details>\n",
    "<summary>Solution</summary>\n",
    "<p>Pour phi=3,14 la somme des signaux a une amplitude nulle, il n'y a pas de lumière. Les interférences sont destructives lorsque les signaux sont en oppostion de phase.</p>\n",
    "</details>"
   ]
  },
  {
   "cell_type": "code",
   "execution_count": null,
   "metadata": {},
   "outputs": [],
   "source": []
  }
 ],
 "metadata": {
  "kernelspec": {
   "display_name": "Python 3",
   "language": "python",
   "name": "python3"
  },
  "language_info": {
   "codemirror_mode": {
    "name": "ipython",
    "version": 3
   },
   "file_extension": ".py",
   "mimetype": "text/x-python",
   "name": "python",
   "nbconvert_exporter": "python",
   "pygments_lexer": "ipython3",
   "version": "3.7.4"
  }
 },
 "nbformat": 4,
 "nbformat_minor": 2
}
