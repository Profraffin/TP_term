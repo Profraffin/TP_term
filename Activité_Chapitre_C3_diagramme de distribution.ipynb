{
 "cells": [
  {
   "cell_type": "markdown",
   "metadata": {},
   "source": [
    "# <center>Activité C3 : Tracer le diagramme de distribution des espèces</center>\n",
    "\n",
    "<div class=\"alert alert-info\" role=\"alert\">\n",
    "Un notebook Jupyter est composé de deux types de cellules :<br>\n",
    "<ul><li> des cellules contenant du <b>texte</b> qu'il est nécessaire <b>de lire pour suivre correctement les consignes</b> ;</li><br>\n",
    "<li>des cellules contenant du <b>code Python</b> qu'il est nécessaire <b>d'éxécuter dans l'ordre d'apparition</b>.</li></ul><br>\n",
    "<br>\n",
    "<b>Pour exécuter une cellule de code</b> (grisé), il faut cliquer sur le bouton \"Exécuter\" dans le bandeau supérieur.\n",
    "<br>\n",
    "<center><img src=\"bouton_exécuter.jpg\"></center><br></li></ul>\n",
    "</div>"
   ]
  },
  {
   "cell_type": "markdown",
   "metadata": {},
   "source": [
    "<div class=\"alert alert-success\" role=\"alert\">\n",
    "Code à exécuter pour tracer le diagramme :\n",
    "</div>"
   ]
  },
  {
   "cell_type": "code",
   "execution_count": null,
   "metadata": {},
   "outputs": [],
   "source": [
    "#importation des bibliothèques\n",
    "import numpy as np                        \n",
    "from matplotlib import pyplot as plt\n",
    "\n",
    "X=np.linspace(0,14,141) # Echantillonnage de l'axe en pH\n",
    "\n",
    "# calcul des proportions à l'équilibre\n",
    "rA=[100/(1+10**(pH-4.8)) for pH in X] # en quantité d'acide (en %)\n",
    "rB=[100/(1+10**(4.8-pH)) for pH in X] # en quantité de base (en %)\n",
    "\n",
    "# Affichage du diagramme de distribution des espèces\n",
    "plt.plot(X,rA,'r+',label='CH$_3$COOH')   # pour l'acide \n",
    "plt.plot(X,rB,'b+',label='CH$_3$COO$^-$')# pour la base \n",
    "\n",
    "# Mise en forme de la fenêtre graphique\n",
    "plt.suptitle('Couple CH$_3$COOH / CH$_3$COO$^-$')  # Titre supérieur\n",
    "plt.title('Diagramme de distribution des espèces') # Titre\n",
    "plt.xlabel('pH')                            # Label axe des abscisses \n",
    "plt.ylabel('Proportion des espèces (en %)') # Label axe des ordonnées\n",
    "plt.axis([0,14,0,100]) # Minimum et maximum des axes\n",
    "plt.grid(ls=':')       # Affiche une grille\n",
    "plt.legend(loc=7)      # Affiche la légende\n",
    "plt.rcParams['figure.figsize'] = [10, 10]# taille de l'affichage du graphique\n",
    "plt.show()             # Affiche la figure"
   ]
  },
  {
   "cell_type": "code",
   "execution_count": null,
   "metadata": {},
   "outputs": [],
   "source": []
  }
 ],
 "metadata": {
  "kernelspec": {
   "display_name": "Python 3",
   "language": "python",
   "name": "python3"
  },
  "language_info": {
   "codemirror_mode": {
    "name": "ipython",
    "version": 3
   },
   "file_extension": ".py",
   "mimetype": "text/x-python",
   "name": "python",
   "nbconvert_exporter": "python",
   "pygments_lexer": "ipython3",
   "version": "3.7.4"
  }
 },
 "nbformat": 4,
 "nbformat_minor": 4
}
