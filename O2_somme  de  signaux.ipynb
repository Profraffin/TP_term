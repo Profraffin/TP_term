{
 "cells": [
  {
   "cell_type": "markdown",
   "metadata": {},
   "source": [
    "# <center>Activité O2 : somme de deux signaux sinusoïdaux périodiques</center>\n",
    "\n",
    "<div class=\"alert alert-info\" role=\"alert\">\n",
    "Un notebook Jupyter est composé de deux types de cellules :<br>\n",
    "<ul><li> des cellules contenant du <b>texte</b> qu'il est nécessaire <b>de lire pour suivre correctement les consignes</b> ;</li><br>\n",
    "<li>des cellules contenant du <b>code Python</b> qu'il est nécessaire <b>d'éxécuter dans l'ordre d'apparition</b>.</li></ul><br>\n",
    "<br>\n",
    "<b>Pour exécuter une cellule de code</b> (grisé), il faut cliquer sur le bouton \"Exécuter\" dans le bandeau supérieur.\n",
    "<br>\n",
    "<center><img src=\"bouton_exécuter.jpg\"></center><br></li></ul>\n",
    "</div>"
   ]
  },
  {
   "cell_type": "markdown",
   "metadata": {},
   "source": [
    "# CODE n°1"
   ]
  },
  {
   "cell_type": "code",
   "execution_count": null,
   "metadata": {},
   "outputs": [],
   "source": [
    "from matplotlib import pyplot as plt\n",
    "from math import pi\n",
    "import numpy as np\n",
    "\n",
    "T=1    # Période en ms\n",
    "t=np.linspace(0,4,400) # Définition du tableau des dates en ms\n",
    "\n",
    "# Amplitude et phase du signal\n",
    "A=float(input('Amplitude du signal 1 en V : A ='))\n",
    "phi=eval(input('Phase à l\\'origine de la source : phi = '))\n",
    "s=A*np.cos(2*pi*t/T+phi)\n",
    "\n",
    "# Affichage de la courbe du signal\n",
    "plt.plot(t,s,label=r'$A\\cos(\\dfrac{2\\pi}{T}t+\\varphi)$')\n",
    "plt.xlabel('t (en ms)')\n",
    "plt.ylabel('s')\n",
    "plt.xlim(0,4)\n",
    "plt.ylim(-1.5*(A),1.5*(A))\n",
    "plt.grid()\n",
    "plt.legend(loc = 9, ncol=3)\n",
    "plt.show()"
   ]
  },
  {
   "cell_type": "markdown",
   "metadata": {},
   "source": [
    "<div class=\"alert alert-danger\" role=\"alert\">\n",
    "<center><font size=\"3\">Ne modifier que la partie du code contenant ---A COMPLETER--- (en effaçant au préalable ce texte)</font></center>\n",
    "</div>"
   ]
  },
  {
   "cell_type": "markdown",
   "metadata": {},
   "source": [
    "# CODE n°2"
   ]
  },
  {
   "cell_type": "code",
   "execution_count": null,
   "metadata": {},
   "outputs": [],
   "source": [
    "from matplotlib import pyplot as plt\n",
    "from math import pi\n",
    "import numpy as np\n",
    "\n",
    "T=1    # Période en ms\n",
    "t=np.linspace(0,4,400) # Définition du tableau des dates en ms\n",
    "\n",
    "A1=float(input('Amplitude du signal 1 en V : A1 ='))\n",
    "A2=float(input('Amplitude du signal 2 en V : A2 ='))\n",
    "phi=eval(input('Phase à l\\'origine de la source 2 : phi = '))\n",
    "s1=A1*np.cos(2*pi*t/T)\n",
    "s2=A2*np.cos(2*pi*t/T+phi)\n",
    "--- A compléter ---                   # s3(t) est la somme s1(t)+s2(t)\n",
    "\n",
    "# Affichage des courbe\n",
    "plt.plot(t,s1,label='$A_{1}\\cos(\\dfrac{2\\pi}{T}t)$')\n",
    "plt.plot(t,s2,label=r'$A_{2}\\cos(\\dfrac{2\\pi}{T}t+\\varphi)$')\n",
    "plt.plot(t,s3,label=r'$A_{1}\\cos(\\dfrac{2\\pi}{T}t)+A_{2}\\cos(\\dfrac{2\\pi}{T}t+\\varphi)$')\n",
    "plt.xlabel('t (en ms)')\n",
    "plt.ylabel('s1,s2 et s3')\n",
    "plt.xlim(0,4)\n",
    "plt.ylim(-1.5*(A1+A2),1.5*(A1+A2))\n",
    "plt.grid()\n",
    "plt.legend(loc = 9, ncol=3)\n",
    "plt.show()"
   ]
  }
 ],
 "metadata": {
  "kernelspec": {
   "display_name": "Python 3",
   "language": "python",
   "name": "python3"
  },
  "language_info": {
   "codemirror_mode": {
    "name": "ipython",
    "version": 3
   },
   "file_extension": ".py",
   "mimetype": "text/x-python",
   "name": "python",
   "nbconvert_exporter": "python",
   "pygments_lexer": "ipython3",
   "version": "3.7.4"
  }
 },
 "nbformat": 4,
 "nbformat_minor": 2
}
