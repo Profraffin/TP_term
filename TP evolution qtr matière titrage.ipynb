{
 "cells": [
  {
   "cell_type": "markdown",
   "metadata": {},
   "source": [
    " <img src=\"logo.jpg\" alt=\"photo\"/> "
   ]
  },
  {
   "cell_type": "markdown",
   "metadata": {},
   "source": [
    "## 1-Titrage étudié"
   ]
  },
  {
   "cell_type": "markdown",
   "metadata": {},
   "source": [
    "Une solution aqueuse d'acide chlorydroque est titrée par une solution aqueuse d'hdroxyde de sodium.\n",
    "L'espèce chimique  ${ H }_{ 3 }{ O }^{ + }$ est une espèce acide et l'espèce chimique ${ H }{ O }^{ - }$ est une espèce base. On a donc une réaction acide-base."
   ]
  },
  {
   "cell_type": "markdown",
   "metadata": {},
   "source": [
    " <img src=\"titrage.jpg\" alt=\"photo\" width=\"30%\"/> "
   ]
  },
  {
   "cell_type": "markdown",
   "metadata": {},
   "source": [
    "**Données :** \n",
    "\n",
    "* ${ c }_{ b }=100,0mmol/L$ \n",
    "\n",
    "* ${ V }_{ a }=10,00mL$  \n",
    "\n",
    "L'équation de la réaction de titrage acide-base est :\n",
    "\n",
    "<center> ${ H }_{ 3 }{ O }^{ + }\\quad +\\quad H{ O }^{ - }\\rightarrow \\quad 2\\quad { H }_{ 2 }O$\n",
    "\n",
    "On mesure ${ V }_{ E }=16,7mL$ \n",
    "\n",
    "\n",
    "\n",
    "## **L'objectif est d'utiliser un code python permettant  de tracer l'évolution des quantités de matière des espèces en fonction du volume de solution titrante versé.**"
   ]
  },
  {
   "cell_type": "markdown",
   "metadata": {},
   "source": [
    "## 2-Evolution des quantités de matière"
   ]
  },
  {
   "cell_type": "markdown",
   "metadata": {},
   "source": [
    "On appelle **A l'espèce chimique acide** ${ H }_{ 3 }{ O }_{ (aq) }^{ + }$ et **B l'espèce chimique base**${ H }{ O }_{ (aq) }^{ - }$ pour alléger l'écriture du code.\n",
    "\n",
    "On souhaite tracer l'évolution de la quantité nA (quantité de l'espèce A dans le bécher) et de nB (quantité de l'espèce B dans le bécher) en fonction de VB (volume versé de solution B) \n",
    "\n",
    "A l'équivalence on a :  ${ n }_{ { A },debut }={ n }_{ B,eqv }$"
   ]
  },
  {
   "cell_type": "markdown",
   "metadata": {},
   "source": [
    " Evolution des quantités de matière dans le bécher : \n",
    " <img src=\"tableau_dos.jpg\" alt=\"photo\" width=\"70%\"/> "
   ]
  },
  {
   "cell_type": "markdown",
   "metadata": {},
   "source": [
    "<div class=\"alert alert-warning\">\n",
    "<b>Travail à faire : </b> Remplacer dans le code ci-dessous la partie ---A compléter-- par la relation nécessaire, puis exécuter le code\n",
    "</div>"
   ]
  },
  {
   "cell_type": "code",
   "execution_count": null,
   "metadata": {},
   "outputs": [],
   "source": [
    "import matplotlib.pyplot as plt\n",
    "\n",
    "cB=100.0 #concentration de la solution titrante en mmol/L\n",
    "VA=10.00 #volume de la solution titrée en mL\n",
    "Veqv=16.7 #volume à l'équivalence en mL\n",
    "\n",
    "cA=---A compléter---- #calcul de la concentration cA\n",
    "print (\"la concentration de A est cA=\",cA, \"mmol/L\")"
   ]
  },
  {
   "cell_type": "markdown",
   "metadata": {},
   "source": [
    "<div class=\"alert alert-warning\">\n",
    "<b>Travail à faire : </b> Remplacer dans le code ci-dessous la partie ---A compléter-- par la relation nécessaire, puis exécuter le code\n",
    "</div>\n",
    "\n",
    "<details>\n",
    "<summary>Aide</summary>\n",
    "<p>aidez-vous du tableau d'avancement pour compléter le code</p>\n",
    "</details>"
   ]
  },
  {
   "cell_type": "code",
   "execution_count": null,
   "metadata": {},
   "outputs": [],
   "source": [
    "Vmax = 25 # Volume maximum de la burette en mL\n",
    "nA=[] # liste des quantités de matière de A dans le bécher\n",
    "nB=[] # liste des quantités de matière de B dans le bécher\n",
    "VB=[] # liste des volumes de solution B versée lors du titrage (entre 0 et Vmax=25 mL)\n",
    "\n",
    "for i in range (0,Vmax) :\n",
    "    VB.append(i)\n",
    "    if VB[i]<Veqv :                     #avant l'équivalence \n",
    "        nA.append(---A compléter---)    #calcul de la quantité de matière de A\n",
    "        nB.append(0)                    #quantité de matière de B nulle\n",
    "    else :\n",
    "        nA.append(0)\n",
    "        nB.append(cB*VB[i]-cA*VA)\n",
    "\n",
    "plt.plot(VB,nA,color=\"red\")\n",
    "plt.plot(VB,nB,color=\"blue\")\n",
    "plt.show"
   ]
  },
  {
   "cell_type": "markdown",
   "metadata": {},
   "source": [
    "<div class=\"alert alert-warning\">\n",
    "<b>Travail à faire : </b>Faire un copier-coller du code précédent dans la cellule ci-dessous puis améliorer ce code en ajoutant un titre, une grille, les noms de l'ordonnée et de l'abscisse, le volume équivalent...à partir du document d'aide ci-dessous. \n",
    "</div>"
   ]
  },
  {
   "cell_type": "code",
   "execution_count": null,
   "metadata": {},
   "outputs": [],
   "source": []
  },
  {
   "cell_type": "markdown",
   "metadata": {},
   "source": [
    "#### Document d'aide : instructions graphiques de matplotlib\n",
    "\n",
    "<img src=\"instructions graphiques matplotlib.jpg\" alt=\"photo\"/> "
   ]
  },
  {
   "cell_type": "code",
   "execution_count": null,
   "metadata": {},
   "outputs": [],
   "source": []
  }
 ],
 "metadata": {
  "kernelspec": {
   "display_name": "Python 3",
   "language": "python",
   "name": "python3"
  },
  "language_info": {
   "codemirror_mode": {
    "name": "ipython",
    "version": 3
   },
   "file_extension": ".py",
   "mimetype": "text/x-python",
   "name": "python",
   "nbconvert_exporter": "python",
   "pygments_lexer": "ipython3",
   "version": "3.7.4"
  }
 },
 "nbformat": 4,
 "nbformat_minor": 2
}
