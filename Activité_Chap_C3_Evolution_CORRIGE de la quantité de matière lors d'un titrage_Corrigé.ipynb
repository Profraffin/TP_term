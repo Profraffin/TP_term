{
 "cells": [
  {
   "cell_type": "markdown",
   "metadata": {},
   "source": [
    "# <center>Evolution des quantités de matière en fonction du volume de solution titrante versé</center>\n",
    "\n",
    "\n",
    "\n",
    "<div class=\"alert alert-info\" role=\"alert\">\n",
    "Un notebook Jupyter est composé de deux types de cellules :<br>\n",
    "<ul><li> des cellules contenant du <b>texte</b> qu'il est nécessaire <b>de lire pour suivre correctement les consignes</b> ;</li><br>\n",
    "<li>des cellules contenant du <b>code Python</b> qu'il est nécessaire <b>d'éxécuter dans l'ordre d'apparition</b>.</li></ul><br>\n",
    "<br>\n",
    "<b>Pour exécuter une cellule sélectionnée</b> (encadrée en vert), il faut cliquer :<br>\n",
    "<ul><li>sur le bouton \"Exécuter\" situé à côté de la cellule<br><img src=\"Jupyter_Executer.bis.jpg\"></li><br>\n",
    "<li>ou sur le bouton \"Exécuter\" dans le bandeau supérieur.\n",
    "<br>\n",
    "<center><img src=\"Jupyter_Executer.jpg\"></center><br></li></ul>\n",
    "</div>\n",
    "<div class=\"alert alert-warning\">\n",
    "<b>Travail à faire : </b> Exécuter cette ligne de code en suivant les indications ci-dessus. Du texte est affecté à la variable \"a\".\n",
    "</div>"
   ]
  },
  {
   "cell_type": "code",
   "execution_count": 1,
   "metadata": {},
   "outputs": [],
   "source": [
    "a=\"Hello World\""
   ]
  },
  {
   "cell_type": "markdown",
   "metadata": {},
   "source": [
    "<div class=\"alert alert-info\" role=\"alert\">\n",
    "Sur la gauche d'une cellule contenant du code Python, il y a l'indication <b>Entrée [&#160;&#160;]</b><br>\n",
    "<ul><li><b>Entrée [&#160;&#160;]</b> signifie que la cellule n'a pas été exécutée ;</li><br>\n",
    "<li><b>Entrée [*]</b> signifie que la cellule est en cours d'exécution. Soit il faut une action de votre part (saisie d'une valeur dans un <b>Input</b>, soit il faut donc patienter quelques secondes pour que tout le code s'exécute) ;</li><br>\n",
    "<li><b>Entrée [1]</b> signifie que la cellule a été exécutée au rang 1.</li></ul><br>\n",
    "<br>\n",
    "</div>\n",
    "<div class=\"alert alert-warning\">\n",
    "<b>Travail à faire : </b> Exécuter cette ligne de code qui permet d'afficher la valeur de la variable \"a\".\n",
    "</div>"
   ]
  },
  {
   "cell_type": "code",
   "execution_count": 2,
   "metadata": {},
   "outputs": [
    {
     "name": "stdout",
     "output_type": "stream",
     "text": [
      "Hello World\n"
     ]
    }
   ],
   "source": [
    "print(a)"
   ]
  },
  {
   "cell_type": "markdown",
   "metadata": {},
   "source": [
    "<div class=\"alert alert-success\" role=\"alert\">\n",
    "<details>\n",
    "<summary><b>A LIRE (en cliquant sur la flèche à gauche)</b>: Explications pour sauvegarder vos modifications au fur et à mesure.</summary>\n",
    "<p>En cas d'inactivité prolongé (entre 5 et 10 min), le notebook Jupyter sera déconnecté.<br>\n",
    "<img src=\"Jupyter_deconnected.jpg\"><br>\n",
    "Pour éviter de perdre vos modifications de code, enregistrez régulièrement votre notebook dans votre navigateur.<br>\n",
    "<img src=\"Jupyter_save.jpg\"><br>\n",
    "Le message suivant s'affiche :\n",
    "<img src=\"Jupyter_save_2.jpg\"><br>\n",
    "En cas de déconnexion, vous devez réouvrir votre notebook puis vous pouvez charger votre sauvegarde.<br>\n",
    "<img src=\"Jupyter_open.jpg\"><br>\n",
    "Le message suivant s'affiche et vous devez cliquer sur \"OK\" :\n",
    "<img src=\"Jupyter_open_2.jpg\"><br>\n",
    "Vous devez exécuter toutes les cellules modifiées depuis le début. Pour le faire rapidement, il faut cliquer sur \"Restart & Run all\" dans le menu Kernel.<br>\n",
    "<img src=\"Jupyter_restart.jpg\"><br></p>\n",
    "Le message suivant s'affiche et vous devez cliquer sur \"Restart & Run All Cells\" :\n",
    "<img src=\"Jupyter_restart_2.jpg\"><br>\n",
    "</details>\n",
    "</div>\n",
    "\n",
    "<div class=\"alert alert-danger\" role=\"alert\">\n",
    "<center><font size=\"5\">Ne modifier que la partie du code contenant ---A COMPLETER---</font></center>\n",
    "</div>"
   ]
  },
  {
   "cell_type": "markdown",
   "metadata": {},
   "source": [
    "## 1-Titrage étudié\n",
    "\n",
    "Une solution aqueuse d'hydroxyde de sodium est titrée par une solution aqueuse d'acide chlorhydrique. \n",
    "L'espèce chimique  ${ H }_{ 3 }{ O }^{ + }$ est une espèce acide et l'espèce chimique ${ H }{ O }^{ - }$ est une espèce base. On a donc une réaction acide-base.\n",
    "\n",
    " <img src=\"titrage conductimetrique.jpg\" alt=\"image non copiée dans le dossier\" width=\"50%\"/> \n",
    "\n",
    "### Données :\n",
    "\n",
    "<br>\n",
    "<b>Solution titrée</b>\n",
    "<ul><li>$c_{titré} = [Na^{+}] = [HO^{-}] = 0,136 \\space mol.L^{-1} \\space$(déterminée expérimentalement à la suite du titrage)</li> \n",
    "<li>$V_{titré} = 10,0 \\space mL $</li></ul>\n",
    "\n",
    "<b>Solution titrante</b>\n",
    "<ul><li>$c_{titrant} = [H_{3}O^{+}] = [Cl^{-}] = 0,10 \\space mol.L^{-1} $</li>\n",
    "<li>$V_{E} = 13,6 \\space mL $ (déterminée expérimentalement à la suite du titrage)</li></ul>\n",
    "\n",
    "<br>\n",
    "L'équation de la réaction de titrage acide-base est :\n",
    "\n",
    "<center> $H_{3}O^{+}(aq)\\space +\\space HO^{-}(aq)\\space \\rightarrow \\space 2\\space  H_{ 2 }O(l)$</center>\n",
    "\n",
    "<br>\n",
    "   \n",
    "\n",
    "### L'objectif est d'utiliser un code python permettant de représenter l'évolution des quantités de matière des espèces chimiques en fonction du volume de solution titrante versé.\n",
    "\n",
    "## 2-Evolution des quantités de matière\n",
    "\n",
    "<div class=\"alert alert-success\" role=\"alert\">\n",
    "Exécuter le bloc ci-dessous. Pour la suite, il sera nécessaire de respecter la notation des différentes variables.</div>"
   ]
  },
  {
   "cell_type": "code",
   "execution_count": 3,
   "metadata": {},
   "outputs": [],
   "source": [
    "nom_espece_1=\"Na+\"      # formule de l'espèce chimique n°1\n",
    "nom_espece_2=\"HO-\"      # formule de l'espèce chimique n°2\n",
    "nom_espece_3=\"H3O+\"     # formule de l'espèce chimique n°3\n",
    "nom_espece_4=\"Cl-\"      # formule de l'espèce chimique n°4\n",
    "\n",
    "c_titre = 0.136         # en mol/L\n",
    "V_titre=10.0e-3         # en L\n",
    "\n",
    "c_titrant=0.10          # en mol/L\n",
    "V_E=13.6e-3             # en L\n",
    "\n",
    "\n",
    "V_verse=[]              # début d'une liste vide correspond à l'évolution du volume de solution titrante versé (en L)\n",
    "\n",
    "n_espece_1=[]           # début d'une liste vide correspond à l'évolution de la quantité de matière de l'espèce chimique n°1 (en mol)\n",
    "n_espece_2=[]           # début d'une liste vide correspond à l'évolution de la quantité de matière de l'espèce chimique n°2 (en mol)\n",
    "n_espece_3=[]           # début d'une liste vide correspond à l'évolution de la quantité de matière de l'espèce chimique n°3 (en mol)\n",
    "n_espece_4=[]           # début d'une liste vide correspond à l'évolution de la quantité de matière de l'espèce chimique n°4 (en mol)"
   ]
  },
  {
   "cell_type": "markdown",
   "metadata": {},
   "source": [
    "<div class=\"alert alert-warning\">\n",
    "<b>Travail à faire : </b> À partir de votre activité papier, compléter les lignes de code ci-dessous en tenant compte du paramètre de la fonction <font color=red><i>calcul_quantite_avant_E</i></font>.\n",
    "<br>\n",
    "<br>\n",
    "<details>\n",
    "<summary>Aide n°1</summary>\n",
    "<p>Le paramètre de la fonction est un volume (quelconque) de solution titrante versé (en mL) <b>avant l'équivalence.</b></p>\n",
    "</details>\n",
    "<br>\n",
    "<details>\n",
    "<summary>Aide n°2</summary>\n",
    "<p>Le paramètre de la fonction est noté V. Il ne faut pas le confondre avec la variable V_verse.</p>\n",
    "</details>\n",
    "<br>\n",
    "<details>\n",
    "<summary>Aide n°3</summary>\n",
    "    <p>Chaque ligne <i>n_espece_X.append</i> permet d'ajouter à une liste, la valeur de la quantité de matière de l'espèce chimique X présente dans le bécher pour volume V de solution titrante versé <b>avant l'équivalence.</b>.</p>\n",
    "</details>\n",
    "<br>\n",
    "</div>\n"
   ]
  },
  {
   "cell_type": "code",
   "execution_count": 4,
   "metadata": {},
   "outputs": [],
   "source": [
    "\"\"\"\n",
    "Fonction calculant la quantité de matière des espèces chimiques avant l'équivalence\n",
    "Entrées : volume V de solution titrante versé (en mL)\n",
    "Résultat : complète la liste du volume de solution titrante versé (en L)\n",
    "           et les listes de quantité de matière pour chaque espèce chimique (en mol)\n",
    "\n",
    "def calcul_quantite_avant_E(V) :\n",
    "    V=V*1e-3                               # conversion du volume de mL en L\n",
    "    V_verse.append(V)                      # la fonction append permet d'ajouter une valeur à la liste V_verse\n",
    "    n_espece_1.append(---A COMPLETER---)\n",
    "    n_espece_2.append(---A COMPLETER---)\n",
    "    n_espece_3.append(---A COMPLETER---)\n",
    "    n_espece_4.append(---A COMPLETER---) \n",
    "\"\"\"    \n",
    "def calcul_quantite_avant_E(V) :\n",
    "    V=V*1e-3                               # conversion du volume de mL en L\n",
    "    V_verse.append(V)                      # la fonction append permet d'ajouter une valeur à la liste V_verse\n",
    "    n_espece_1.append(c_titre*V_titre)\n",
    "    n_espece_2.append(c_titre*V_titre-c_titrant*V)\n",
    "    n_espece_3.append(0)\n",
    "    n_espece_4.append(c_titrant*V) "
   ]
  },
  {
   "cell_type": "markdown",
   "metadata": {},
   "source": [
    "<div class=\"alert alert-success\" role=\"alert\">\n",
    "Exécuter le bloc ci-dessous pour vérifier que votre fonction est correcte. (Aucune compréhension du code n'est demandée)\n",
    "</div>"
   ]
  },
  {
   "cell_type": "code",
   "execution_count": 5,
   "metadata": {},
   "outputs": [
    {
     "name": "stdout",
     "output_type": "stream",
     "text": [
      "Bravo, votre fonction est correcte. Vous pouvez continuer.\n"
     ]
    }
   ],
   "source": [
    "#Effacement des valeurs des précédents tests\n",
    "n_espece_1=[]\n",
    "n_espece_2=[]\n",
    "n_espece_3=[]\n",
    "n_espece_4=[]\n",
    "\n",
    "calcul_quantite_avant_E(1)\n",
    "assert n_espece_1 == [0.00136] , \"Vérifier la relation pour l'espèce chimique n°1\"\n",
    "assert n_espece_2 == [0.00126] , \"Vérifier la relation pour l'espèce chimique n°2\"\n",
    "assert n_espece_3 == [0] , \"Vérifier la relation pour l'espèce chimique n°3\"\n",
    "assert n_espece_4 == [0.0001] , \"Vérifier la relation pour l'espèce chimique n°4\"\n",
    "print(\"Bravo, votre fonction est correcte. Vous pouvez continuer.\")\n",
    "\n",
    "#Effacement des valeurs du test réussi\n",
    "V_verse=[]\n",
    "n_espece_1=[]\n",
    "n_espece_2=[]\n",
    "n_espece_3=[]\n",
    "n_espece_4=[]"
   ]
  },
  {
   "cell_type": "markdown",
   "metadata": {},
   "source": [
    "<div class=\"alert alert-warning\">\n",
    "<b>Travail à faire : </b> À partir de votre activité papier, compléter les lignes de code ci-dessous en tenant compte du paramètre de la fonction <font color=red><i>calcul_quantite_apres_E</i></font>.\n",
    "<br>\n",
    "<br>\n",
    "<details>\n",
    "<summary>Aide n°1</summary>\n",
    "<p>Le paramètre de la fonction est un volume (quelconque) de solution titrante versé (en mL) <b>après l'équivalence.</b></p>\n",
    "</details>\n",
    "<br>\n",
    "<details>\n",
    "<summary>Aide n°2</summary>\n",
    "<p>Le paramètre de la fonction est noté V. Il ne faut pas le confondre avec la variable V_verse.</p>\n",
    "</details>\n",
    "<br>\n",
    "<details>\n",
    "<summary>Aide n°3</summary>\n",
    "<p>Chaque ligne <i>n_espece_X.append</i> permet d'ajouter à une liste, la valeur de la quantité de matière de l'espèce chimique X présente dans le bécher pour volume V de solution titrante versé <b>après l'équivalence.</b>.</p>\n",
    "</details>\n",
    "<br>\n",
    "</div>"
   ]
  },
  {
   "cell_type": "code",
   "execution_count": 6,
   "metadata": {},
   "outputs": [],
   "source": [
    "\"\"\"\n",
    "Fonction calculant la quantité de matière des espèces chimiques après l'équivalence\n",
    "Entrées : volume de solution titrante versé (en mL)\n",
    "Résultat : complète la liste du volume de solution titrante versé (en L)\n",
    "           et les listes de quantité de matière pour chaque espèce chimique (en mol)\n",
    "\n",
    "def calcul_quantite_apres_E(V) :\n",
    "    V=V*1e-3     # conversion du volume de mL en L\n",
    "    V_verse.append(V)\n",
    "    n_espece_1.append(---A COMPLETER---)\n",
    "    n_espece_2.append(---A COMPLETER---)\n",
    "    n_espece_3.append(---A COMPLETER---)\n",
    "    n_espece_4.append(---A COMPLETER---) \n",
    "\"\"\"    \n",
    "\n",
    "def calcul_quantite_apres_E(V) :\n",
    "    V=V*1e-3     # conversion du volume de mL en L\n",
    "    V_verse.append(V)\n",
    "    n_espece_1.append(c_titre*V_titre)\n",
    "    n_espece_2.append(0)\n",
    "    n_espece_3.append(c_titrant*(V-V_E))\n",
    "    n_espece_4.append(c_titrant*V) "
   ]
  },
  {
   "cell_type": "markdown",
   "metadata": {},
   "source": [
    "<div class=\"alert alert-success\" role=\"alert\">\n",
    "Exécuter le bloc ci-dessous pour vérifier que votre fonction est correcte. (Aucune compréhension du code n'est demandée)\n",
    "</div>"
   ]
  },
  {
   "cell_type": "code",
   "execution_count": 7,
   "metadata": {},
   "outputs": [
    {
     "name": "stdout",
     "output_type": "stream",
     "text": [
      "Bravo, votre fonction est correcte. Vous pouvez continuer.\n"
     ]
    }
   ],
   "source": [
    "#Effacement des valeurs des précédents tests\n",
    "n_espece_1=[]\n",
    "n_espece_2=[]\n",
    "n_espece_3=[]\n",
    "n_espece_4=[]\n",
    "\n",
    "calcul_quantite_apres_E(20)\n",
    "assert n_espece_1 == [0.00136] , \"Vérifier la relation pour l'espèce chimique n°1\"\n",
    "assert n_espece_2 == [0] , \"Vérifier la relation pour l'espèce chimique n°2\"\n",
    "assert n_espece_3 == [0.0006400000000000002] , \"Vérifier la relation pour l'espèce chimique n°3\"\n",
    "assert n_espece_4 == [0.002] , \"Vérifier la relation pour l'espèce chimique n°4\"\n",
    "print(\"Bravo, votre fonction est correcte. Vous pouvez continuer.\")\n",
    "\n",
    "#Effacement des valeurs du test réussi\n",
    "V_verse=[]\n",
    "n_espece_1=[]\n",
    "n_espece_2=[]\n",
    "n_espece_3=[]\n",
    "n_espece_4=[]"
   ]
  },
  {
   "cell_type": "markdown",
   "metadata": {},
   "source": [
    "<div class=\"alert alert-warning\">\n",
    "<b>Travail à faire : </b>Compléter les lignes de code ci-dessous à l'aide des fonctions définies précédemment.\n",
    "<br>\n",
    "<br>\n",
    "<details>\n",
    "<summary>Aide</summary>\n",
    "    <p>Le paramètre de la fonction doit correspondre à la variable de la boucle <i>for</i>.</p>\n",
    "</details>\n",
    "</div>"
   ]
  },
  {
   "cell_type": "code",
   "execution_count": 8,
   "metadata": {},
   "outputs": [],
   "source": [
    "'''for i in range (0,26,1):   # boucle allant de 0 à 25 (26 valeurs) par pas de 1\n",
    "    # i représente le volume de solution titrante versé (en mL) \n",
    "    if i<= V_E*1e3:\n",
    "        # si le volume de solution titrante versé est inférieur ou égal au volume à volume à l'équivalence alors ...\n",
    "        ---A COMPLETER---\n",
    "    else:\n",
    "        # si le volume de solution titrante versé est supérieur au volume à volume à l'équivalence alors ...\n",
    "        ---A COMPLETER---'''\n",
    "\n",
    "for i in range (0,26,1):   # boucle commençant allant de 0 à 25 (26 valeurs) par pas de 1\n",
    "    # i représente le volume de solution titrante versé (en mL) \n",
    "    if i<= V_E*1e3:\n",
    "        # si le volume de solution titrante versé est inférieur ou égal au volume à volume à l'équivalence alors ...\n",
    "        calcul_quantite_avant_E(i)\n",
    "    else:\n",
    "        # si le volume de solution titrante versé est supérieur au volume à volume à l'équivalence alors ...\n",
    "        calcul_quantite_apres_E(i)"
   ]
  },
  {
   "cell_type": "markdown",
   "metadata": {},
   "source": [
    "<div class=\"alert alert-success\" role=\"alert\">\n",
    "Exécuter le bloc ci-dessous pour représenter l'évolution des quantités de matière des espèces chimiques en fonction du volume de solution titrante versé.<br>\n",
    "<b>Il est nécessaire de comprendre le rôle de chaque ligne de code.</b>\n",
    "</div>"
   ]
  },
  {
   "cell_type": "code",
   "execution_count": 9,
   "metadata": {},
   "outputs": [
    {
     "data": {
      "image/png": "[encoded data removed]",
      "text/plain": [
       "<Figure size 720x720 with 1 Axes>"
      ]
     },
     "metadata": {
      "needs_background": "light"
     },
     "output_type": "display_data"
    }
   ],
   "source": [
    "import matplotlib.pyplot as plt\n",
    "\n",
    "plt.rcParams['figure.figsize'] = [10, 10] # taille de l'affichage du graphique\n",
    "plt.plot(V_verse,n_espece_1,color=\"red\",linestyle=\"none\" ,marker=\"x\" ,label=nom_espece_1)\n",
    "plt.plot(V_verse,n_espece_2,color=\"blue\",linestyle=\"none\" ,marker=\"x\" ,label=nom_espece_2)\n",
    "plt.plot(V_verse,n_espece_3,color=\"green\",linestyle=\"none\" ,marker=\"x\" ,label=nom_espece_3)\n",
    "plt.plot(V_verse,n_espece_4,color=\"black\",linestyle=\"none\" ,marker=\"x\" ,label=nom_espece_4)\n",
    "plt.xlabel(\"Volume versé (L)\")\n",
    "plt.ylabel(\"Quantité de matière (mol)\")\n",
    "plt.title(\"Evolution des quantités de matière en fonction du volume de solution titrante versé\")\n",
    "plt.legend()\n",
    "plt.show()"
   ]
  }
 ],
 "metadata": {
  "kernelspec": {
   "display_name": "Python 3",
   "language": "python",
   "name": "python3"
  },
  "language_info": {
   "codemirror_mode": {
    "name": "ipython",
    "version": 3
   },
   "file_extension": ".py",
   "mimetype": "text/x-python",
   "name": "python",
   "nbconvert_exporter": "python",
   "pygments_lexer": "ipython3",
   "version": "3.7.6"
  }
 },
 "nbformat": 4,
 "nbformat_minor": 2
}
